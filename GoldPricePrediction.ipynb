{
 "cells": [
  {
   "cell_type": "markdown",
   "id": "a40b2adf",
   "metadata": {},
   "source": [
    "### Importing"
   ]
  },
  {
   "cell_type": "code",
   "execution_count": 3,
   "id": "d4792a1a",
   "metadata": {},
   "outputs": [],
   "source": [
    "import numpy as np\n",
    "import pandas as pd\n",
    "import matplotlib.pyplot as plt\n",
    "import seaborn as sns\n",
    "from sklearn.model_selection import train_test_split\n",
    "from sklearn.ensemble import RandomForestRegressor\n",
    "from sklearn import metrics"
   ]
  },
  {
   "cell_type": "code",
   "execution_count": 6,
   "id": "6f1908da",
   "metadata": {},
   "outputs": [],
   "source": [
    "gold_data = pd.read_csv('F:\\DataSet\\gld_price_data.csv')"
   ]
  },
  {
   "cell_type": "markdown",
   "id": "40786154",
   "metadata": {},
   "source": [
    "### Exploring Data"
   ]
  },
  {
   "cell_type": "code",
   "execution_count": 7,
   "id": "7d3d5baf",
   "metadata": {},
   "outputs": [
    {
     "data": {
      "text/html": [
       "<div>\n",
       "<style scoped>\n",
       "    .dataframe tbody tr th:only-of-type {\n",
       "        vertical-align: middle;\n",
       "    }\n",
       "\n",
       "    .dataframe tbody tr th {\n",
       "        vertical-align: top;\n",
       "    }\n",
       "\n",
       "    .dataframe thead th {\n",
       "        text-align: right;\n",
       "    }\n",
       "</style>\n",
       "<table border=\"1\" class=\"dataframe\">\n",
       "  <thead>\n",
       "    <tr style=\"text-align: right;\">\n",
       "      <th></th>\n",
       "      <th>Date</th>\n",
       "      <th>SPX</th>\n",
       "      <th>GLD</th>\n",
       "      <th>USO</th>\n",
       "      <th>SLV</th>\n",
       "      <th>EUR/USD</th>\n",
       "    </tr>\n",
       "  </thead>\n",
       "  <tbody>\n",
       "    <tr>\n",
       "      <th>0</th>\n",
       "      <td>1/2/2008</td>\n",
       "      <td>1447.160034</td>\n",
       "      <td>84.860001</td>\n",
       "      <td>78.470001</td>\n",
       "      <td>15.180</td>\n",
       "      <td>1.471692</td>\n",
       "    </tr>\n",
       "    <tr>\n",
       "      <th>1</th>\n",
       "      <td>1/3/2008</td>\n",
       "      <td>1447.160034</td>\n",
       "      <td>85.570000</td>\n",
       "      <td>78.370003</td>\n",
       "      <td>15.285</td>\n",
       "      <td>1.474491</td>\n",
       "    </tr>\n",
       "    <tr>\n",
       "      <th>2</th>\n",
       "      <td>1/4/2008</td>\n",
       "      <td>1411.630005</td>\n",
       "      <td>85.129997</td>\n",
       "      <td>77.309998</td>\n",
       "      <td>15.167</td>\n",
       "      <td>1.475492</td>\n",
       "    </tr>\n",
       "    <tr>\n",
       "      <th>3</th>\n",
       "      <td>1/7/2008</td>\n",
       "      <td>1416.180054</td>\n",
       "      <td>84.769997</td>\n",
       "      <td>75.500000</td>\n",
       "      <td>15.053</td>\n",
       "      <td>1.468299</td>\n",
       "    </tr>\n",
       "    <tr>\n",
       "      <th>4</th>\n",
       "      <td>1/8/2008</td>\n",
       "      <td>1390.189941</td>\n",
       "      <td>86.779999</td>\n",
       "      <td>76.059998</td>\n",
       "      <td>15.590</td>\n",
       "      <td>1.557099</td>\n",
       "    </tr>\n",
       "  </tbody>\n",
       "</table>\n",
       "</div>"
      ],
      "text/plain": [
       "       Date          SPX        GLD        USO     SLV   EUR/USD\n",
       "0  1/2/2008  1447.160034  84.860001  78.470001  15.180  1.471692\n",
       "1  1/3/2008  1447.160034  85.570000  78.370003  15.285  1.474491\n",
       "2  1/4/2008  1411.630005  85.129997  77.309998  15.167  1.475492\n",
       "3  1/7/2008  1416.180054  84.769997  75.500000  15.053  1.468299\n",
       "4  1/8/2008  1390.189941  86.779999  76.059998  15.590  1.557099"
      ]
     },
     "execution_count": 7,
     "metadata": {},
     "output_type": "execute_result"
    }
   ],
   "source": [
    "gold_data.head()"
   ]
  },
  {
   "cell_type": "code",
   "execution_count": 8,
   "id": "6beb08fc",
   "metadata": {},
   "outputs": [
    {
     "data": {
      "text/html": [
       "<div>\n",
       "<style scoped>\n",
       "    .dataframe tbody tr th:only-of-type {\n",
       "        vertical-align: middle;\n",
       "    }\n",
       "\n",
       "    .dataframe tbody tr th {\n",
       "        vertical-align: top;\n",
       "    }\n",
       "\n",
       "    .dataframe thead th {\n",
       "        text-align: right;\n",
       "    }\n",
       "</style>\n",
       "<table border=\"1\" class=\"dataframe\">\n",
       "  <thead>\n",
       "    <tr style=\"text-align: right;\">\n",
       "      <th></th>\n",
       "      <th>Date</th>\n",
       "      <th>SPX</th>\n",
       "      <th>GLD</th>\n",
       "      <th>USO</th>\n",
       "      <th>SLV</th>\n",
       "      <th>EUR/USD</th>\n",
       "    </tr>\n",
       "  </thead>\n",
       "  <tbody>\n",
       "    <tr>\n",
       "      <th>2285</th>\n",
       "      <td>5/8/2018</td>\n",
       "      <td>2671.919922</td>\n",
       "      <td>124.589996</td>\n",
       "      <td>14.0600</td>\n",
       "      <td>15.5100</td>\n",
       "      <td>1.186789</td>\n",
       "    </tr>\n",
       "    <tr>\n",
       "      <th>2286</th>\n",
       "      <td>5/9/2018</td>\n",
       "      <td>2697.790039</td>\n",
       "      <td>124.330002</td>\n",
       "      <td>14.3700</td>\n",
       "      <td>15.5300</td>\n",
       "      <td>1.184722</td>\n",
       "    </tr>\n",
       "    <tr>\n",
       "      <th>2287</th>\n",
       "      <td>5/10/2018</td>\n",
       "      <td>2723.070068</td>\n",
       "      <td>125.180000</td>\n",
       "      <td>14.4100</td>\n",
       "      <td>15.7400</td>\n",
       "      <td>1.191753</td>\n",
       "    </tr>\n",
       "    <tr>\n",
       "      <th>2288</th>\n",
       "      <td>5/14/2018</td>\n",
       "      <td>2730.129883</td>\n",
       "      <td>124.489998</td>\n",
       "      <td>14.3800</td>\n",
       "      <td>15.5600</td>\n",
       "      <td>1.193118</td>\n",
       "    </tr>\n",
       "    <tr>\n",
       "      <th>2289</th>\n",
       "      <td>5/16/2018</td>\n",
       "      <td>2725.780029</td>\n",
       "      <td>122.543800</td>\n",
       "      <td>14.4058</td>\n",
       "      <td>15.4542</td>\n",
       "      <td>1.182033</td>\n",
       "    </tr>\n",
       "  </tbody>\n",
       "</table>\n",
       "</div>"
      ],
      "text/plain": [
       "           Date          SPX         GLD      USO      SLV   EUR/USD\n",
       "2285   5/8/2018  2671.919922  124.589996  14.0600  15.5100  1.186789\n",
       "2286   5/9/2018  2697.790039  124.330002  14.3700  15.5300  1.184722\n",
       "2287  5/10/2018  2723.070068  125.180000  14.4100  15.7400  1.191753\n",
       "2288  5/14/2018  2730.129883  124.489998  14.3800  15.5600  1.193118\n",
       "2289  5/16/2018  2725.780029  122.543800  14.4058  15.4542  1.182033"
      ]
     },
     "execution_count": 8,
     "metadata": {},
     "output_type": "execute_result"
    }
   ],
   "source": [
    "gold_data.tail()"
   ]
  },
  {
   "cell_type": "code",
   "execution_count": 9,
   "id": "a3e7b558",
   "metadata": {},
   "outputs": [
    {
     "data": {
      "text/plain": [
       "(2290, 6)"
      ]
     },
     "execution_count": 9,
     "metadata": {},
     "output_type": "execute_result"
    }
   ],
   "source": [
    "gold_data.shape"
   ]
  },
  {
   "cell_type": "code",
   "execution_count": 10,
   "id": "fd8156ec",
   "metadata": {},
   "outputs": [
    {
     "name": "stdout",
     "output_type": "stream",
     "text": [
      "<class 'pandas.core.frame.DataFrame'>\n",
      "RangeIndex: 2290 entries, 0 to 2289\n",
      "Data columns (total 6 columns):\n",
      " #   Column   Non-Null Count  Dtype  \n",
      "---  ------   --------------  -----  \n",
      " 0   Date     2290 non-null   object \n",
      " 1   SPX      2290 non-null   float64\n",
      " 2   GLD      2290 non-null   float64\n",
      " 3   USO      2290 non-null   float64\n",
      " 4   SLV      2290 non-null   float64\n",
      " 5   EUR/USD  2290 non-null   float64\n",
      "dtypes: float64(5), object(1)\n",
      "memory usage: 107.5+ KB\n"
     ]
    }
   ],
   "source": [
    "gold_data.info()"
   ]
  },
  {
   "cell_type": "code",
   "execution_count": 12,
   "id": "e9029eb8",
   "metadata": {},
   "outputs": [
    {
     "data": {
      "text/plain": [
       "Date       0\n",
       "SPX        0\n",
       "GLD        0\n",
       "USO        0\n",
       "SLV        0\n",
       "EUR/USD    0\n",
       "dtype: int64"
      ]
     },
     "execution_count": 12,
     "metadata": {},
     "output_type": "execute_result"
    }
   ],
   "source": [
    "gold_data.isnull().sum()"
   ]
  },
  {
   "cell_type": "code",
   "execution_count": 13,
   "id": "508ea13a",
   "metadata": {},
   "outputs": [
    {
     "data": {
      "text/html": [
       "<div>\n",
       "<style scoped>\n",
       "    .dataframe tbody tr th:only-of-type {\n",
       "        vertical-align: middle;\n",
       "    }\n",
       "\n",
       "    .dataframe tbody tr th {\n",
       "        vertical-align: top;\n",
       "    }\n",
       "\n",
       "    .dataframe thead th {\n",
       "        text-align: right;\n",
       "    }\n",
       "</style>\n",
       "<table border=\"1\" class=\"dataframe\">\n",
       "  <thead>\n",
       "    <tr style=\"text-align: right;\">\n",
       "      <th></th>\n",
       "      <th>SPX</th>\n",
       "      <th>GLD</th>\n",
       "      <th>USO</th>\n",
       "      <th>SLV</th>\n",
       "      <th>EUR/USD</th>\n",
       "    </tr>\n",
       "  </thead>\n",
       "  <tbody>\n",
       "    <tr>\n",
       "      <th>count</th>\n",
       "      <td>2290.000000</td>\n",
       "      <td>2290.000000</td>\n",
       "      <td>2290.000000</td>\n",
       "      <td>2290.000000</td>\n",
       "      <td>2290.000000</td>\n",
       "    </tr>\n",
       "    <tr>\n",
       "      <th>mean</th>\n",
       "      <td>1654.315776</td>\n",
       "      <td>122.732875</td>\n",
       "      <td>31.842221</td>\n",
       "      <td>20.084997</td>\n",
       "      <td>1.283653</td>\n",
       "    </tr>\n",
       "    <tr>\n",
       "      <th>std</th>\n",
       "      <td>519.111540</td>\n",
       "      <td>23.283346</td>\n",
       "      <td>19.523517</td>\n",
       "      <td>7.092566</td>\n",
       "      <td>0.131547</td>\n",
       "    </tr>\n",
       "    <tr>\n",
       "      <th>min</th>\n",
       "      <td>676.530029</td>\n",
       "      <td>70.000000</td>\n",
       "      <td>7.960000</td>\n",
       "      <td>8.850000</td>\n",
       "      <td>1.039047</td>\n",
       "    </tr>\n",
       "    <tr>\n",
       "      <th>25%</th>\n",
       "      <td>1239.874969</td>\n",
       "      <td>109.725000</td>\n",
       "      <td>14.380000</td>\n",
       "      <td>15.570000</td>\n",
       "      <td>1.171313</td>\n",
       "    </tr>\n",
       "    <tr>\n",
       "      <th>50%</th>\n",
       "      <td>1551.434998</td>\n",
       "      <td>120.580002</td>\n",
       "      <td>33.869999</td>\n",
       "      <td>17.268500</td>\n",
       "      <td>1.303297</td>\n",
       "    </tr>\n",
       "    <tr>\n",
       "      <th>75%</th>\n",
       "      <td>2073.010070</td>\n",
       "      <td>132.840004</td>\n",
       "      <td>37.827501</td>\n",
       "      <td>22.882500</td>\n",
       "      <td>1.369971</td>\n",
       "    </tr>\n",
       "    <tr>\n",
       "      <th>max</th>\n",
       "      <td>2872.870117</td>\n",
       "      <td>184.589996</td>\n",
       "      <td>117.480003</td>\n",
       "      <td>47.259998</td>\n",
       "      <td>1.598798</td>\n",
       "    </tr>\n",
       "  </tbody>\n",
       "</table>\n",
       "</div>"
      ],
      "text/plain": [
       "               SPX          GLD          USO          SLV      EUR/USD\n",
       "count  2290.000000  2290.000000  2290.000000  2290.000000  2290.000000\n",
       "mean   1654.315776   122.732875    31.842221    20.084997     1.283653\n",
       "std     519.111540    23.283346    19.523517     7.092566     0.131547\n",
       "min     676.530029    70.000000     7.960000     8.850000     1.039047\n",
       "25%    1239.874969   109.725000    14.380000    15.570000     1.171313\n",
       "50%    1551.434998   120.580002    33.869999    17.268500     1.303297\n",
       "75%    2073.010070   132.840004    37.827501    22.882500     1.369971\n",
       "max    2872.870117   184.589996   117.480003    47.259998     1.598798"
      ]
     },
     "execution_count": 13,
     "metadata": {},
     "output_type": "execute_result"
    }
   ],
   "source": [
    "gold_data.describe()"
   ]
  },
  {
   "cell_type": "code",
   "execution_count": 14,
   "id": "86b362da",
   "metadata": {},
   "outputs": [],
   "source": [
    "correlation = gold_data.corr()"
   ]
  },
  {
   "cell_type": "code",
   "execution_count": 15,
   "id": "2fdcb5f2",
   "metadata": {},
   "outputs": [
    {
     "data": {
      "text/plain": [
       "<AxesSubplot:>"
      ]
     },
     "execution_count": 15,
     "metadata": {},
     "output_type": "execute_result"
    },
    {
     "data": {
      "image/png": "[encoded data removed]",
      "text/plain": [
       "<Figure size 576x576 with 2 Axes>"
      ]
     },
     "metadata": {
      "needs_background": "light"
     },
     "output_type": "display_data"
    }
   ],
   "source": [
    "plt.figure(figsize=(8,8))\n",
    "sns.heatmap(correlation, cbar=True, square=True, fmt='.1f', annot=True, annot_kws={'size':8}, cmap='Blues')"
   ]
  },
  {
   "cell_type": "code",
   "execution_count": 16,
   "id": "b468912f",
   "metadata": {},
   "outputs": [
    {
     "name": "stdout",
     "output_type": "stream",
     "text": [
      "SPX        0.049345\n",
      "GLD        1.000000\n",
      "USO       -0.186360\n",
      "SLV        0.866632\n",
      "EUR/USD   -0.024375\n",
      "Name: GLD, dtype: float64\n"
     ]
    }
   ],
   "source": [
    "print(correlation['GLD'])"
   ]
  },
  {
   "cell_type": "code",
   "execution_count": 17,
   "id": "96a4f69e",
   "metadata": {},
   "outputs": [
    {
     "name": "stderr",
     "output_type": "stream",
     "text": [
      "F:\\ASHWINI\\Anacondo3\\lib\\site-packages\\seaborn\\distributions.py:2557: FutureWarning: `distplot` is a deprecated function and will be removed in a future version. Please adapt your code to use either `displot` (a figure-level function with similar flexibility) or `histplot` (an axes-level function for histograms).\n",
      "  warnings.warn(msg, FutureWarning)\n"
     ]
    },
    {
     "data": {
      "text/plain": [
       "<AxesSubplot:xlabel='GLD', ylabel='Density'>"
      ]
     },
     "execution_count": 17,
     "metadata": {},
     "output_type": "execute_result"
    },
    {
     "data": {
      "image/png": "[encoded data removed]",
      "text/plain": [
       "<Figure size 432x288 with 1 Axes>"
      ]
     },
     "metadata": {
      "needs_background": "light"
     },
     "output_type": "display_data"
    }
   ],
   "source": [
    "sns.distplot(gold_data['GLD'],color='green')"
   ]
  },
  {
   "cell_type": "markdown",
   "id": "bb987902",
   "metadata": {},
   "source": [
    "### preparing dataset for training"
   ]
  },
  {
   "cell_type": "code",
   "execution_count": 18,
   "id": "2f10cafb",
   "metadata": {},
   "outputs": [],
   "source": [
    "X= gold_data.drop(['Date','GLD'], axis=1)\n",
    "Y= gold_data['GLD']"
   ]
  },
  {
   "cell_type": "code",
   "execution_count": 19,
   "id": "e32546d5",
   "metadata": {},
   "outputs": [
    {
     "name": "stdout",
     "output_type": "stream",
     "text": [
      "              SPX        USO      SLV   EUR/USD\n",
      "0     1447.160034  78.470001  15.1800  1.471692\n",
      "1     1447.160034  78.370003  15.2850  1.474491\n",
      "2     1411.630005  77.309998  15.1670  1.475492\n",
      "3     1416.180054  75.500000  15.0530  1.468299\n",
      "4     1390.189941  76.059998  15.5900  1.557099\n",
      "...           ...        ...      ...       ...\n",
      "2285  2671.919922  14.060000  15.5100  1.186789\n",
      "2286  2697.790039  14.370000  15.5300  1.184722\n",
      "2287  2723.070068  14.410000  15.7400  1.191753\n",
      "2288  2730.129883  14.380000  15.5600  1.193118\n",
      "2289  2725.780029  14.405800  15.4542  1.182033\n",
      "\n",
      "[2290 rows x 4 columns]\n"
     ]
    }
   ],
   "source": [
    "print(X)"
   ]
  },
  {
   "cell_type": "code",
   "execution_count": 20,
   "id": "af4205b3",
   "metadata": {},
   "outputs": [
    {
     "name": "stdout",
     "output_type": "stream",
     "text": [
      "0        84.860001\n",
      "1        85.570000\n",
      "2        85.129997\n",
      "3        84.769997\n",
      "4        86.779999\n",
      "           ...    \n",
      "2285    124.589996\n",
      "2286    124.330002\n",
      "2287    125.180000\n",
      "2288    124.489998\n",
      "2289    122.543800\n",
      "Name: GLD, Length: 2290, dtype: float64\n"
     ]
    }
   ],
   "source": [
    "print(Y)"
   ]
  },
  {
   "cell_type": "markdown",
   "id": "1b93ba46",
   "metadata": {},
   "source": [
    "### Spliting into training and testing data"
   ]
  },
  {
   "cell_type": "code",
   "execution_count": 22,
   "id": "7b32a95d",
   "metadata": {},
   "outputs": [],
   "source": [
    "X_train,X_test,Y_train,Y_test= train_test_split(X,Y, test_size=0.2, random_state=2)"
   ]
  },
  {
   "cell_type": "code",
   "execution_count": 25,
   "id": "b7c7b0f2",
   "metadata": {},
   "outputs": [
    {
     "name": "stdout",
     "output_type": "stream",
     "text": [
      "(1832, 4) (458, 4) (1832,) (458,)\n"
     ]
    }
   ],
   "source": [
    "print(X_train.shape,X_test.shape,Y_train.shape,Y_test.shape)"
   ]
  },
  {
   "cell_type": "markdown",
   "id": "0472e943",
   "metadata": {},
   "source": [
    "### Trained the model to fit the data"
   ]
  },
  {
   "cell_type": "code",
   "execution_count": 26,
   "id": "631b05d5",
   "metadata": {},
   "outputs": [],
   "source": [
    "regressor = RandomForestRegressor(n_estimators=100)"
   ]
  },
  {
   "cell_type": "code",
   "execution_count": 27,
   "id": "1548ed21",
   "metadata": {},
   "outputs": [
    {
     "data": {
      "text/plain": [
       "RandomForestRegressor()"
      ]
     },
     "execution_count": 27,
     "metadata": {},
     "output_type": "execute_result"
    }
   ],
   "source": [
    "regressor.fit(X_train,Y_train)"
   ]
  },
  {
   "cell_type": "markdown",
   "id": "1e4915ee",
   "metadata": {},
   "source": [
    "### Making prediction using test data"
   ]
  },
  {
   "cell_type": "code",
   "execution_count": 28,
   "id": "5bddad4b",
   "metadata": {},
   "outputs": [],
   "source": [
    "test_data_prediction = regressor.predict(X_test)"
   ]
  },
  {
   "cell_type": "code",
   "execution_count": 29,
   "id": "61129367",
   "metadata": {},
   "outputs": [
    {
     "name": "stdout",
     "output_type": "stream",
     "text": [
      "[168.62009947  82.11829975 116.06980077 127.66670048 120.78600125\n",
      " 154.60719863 150.2384997  126.2116001  117.38229879 125.96950071\n",
      " 116.56510093 172.0194006  141.85509861 167.87919974 115.2715002\n",
      " 117.57240033 139.30360277 170.33060112 159.96290377 158.20929955\n",
      " 155.07760034 125.18860019 175.20849985 157.29710271 125.21450048\n",
      "  93.64019939  77.29890024 120.71079992 119.10209926 167.42970031\n",
      "  88.31160049 125.35330017  91.12600099 117.59170044 121.00179948\n",
      " 136.1177004  115.56520164 114.84440096 147.36009915 107.06240097\n",
      " 104.16970252  87.26259784 126.38810031 117.55689956 151.76269931\n",
      " 119.56950002 108.32359998 107.89359843  93.26010076 126.99109817\n",
      "  74.77820037 113.61789924 121.45920007 111.32399917 119.08769904\n",
      " 120.68649941 159.80860055 167.85670134 146.8032968   85.95739907\n",
      "  94.27680062  86.7692989   90.67530062 118.92290079 126.48490052\n",
      " 127.48990007 169.6120993  122.22809947 117.23839905  98.82480049\n",
      " 168.26310151 142.75529792 132.07140301 121.21580222 121.35299927\n",
      " 119.71920057 114.53120155 118.46240047 106.89370101 128.06530087\n",
      " 113.88849975 106.71429999 116.6920007  119.64159897  88.64510074\n",
      "  88.17829887 146.68260238 127.0440002  113.72360026 110.02539832\n",
      " 108.13119889  77.4079992  169.6587019  114.05959911 121.741199\n",
      " 127.95390184 154.99479831  91.84159946 136.97290077 159.64680305\n",
      " 124.8241007  125.27840076 130.61840244 115.01100091 119.88080006\n",
      "  92.1428999  110.00419927 168.26609939 157.3553984  114.32849976\n",
      " 106.46900099  80.00399966 113.32089998 125.90010072 107.05069955\n",
      " 119.29200064 155.76440355 159.63629933 120.44519993 135.8507022\n",
      " 101.36400012 117.450298   119.30350015 113.03570091 102.8006991\n",
      " 160.26959781  98.83310012 147.73319968 125.83950088 169.93519912\n",
      " 125.77859925 127.34569756 127.32270136 113.79499926 113.09680088\n",
      " 123.48809882 102.22869904  89.36889988 124.79689967 101.57169931\n",
      " 107.11139906 113.57010074 117.44210057  99.1150997  121.67390053\n",
      " 162.91089936  87.42029876 106.88429988 117.04860097 127.7330012\n",
      " 124.2693007   80.83809907 120.31410048 157.99849849  88.13189967\n",
      " 110.40459945 118.97349915 172.12909843 102.99599943 105.55610039\n",
      " 122.70230031 157.84659812  87.41899836  93.01140022 112.89420031\n",
      " 176.20739978 114.40190001 119.41090023  94.78650137 125.67410062\n",
      " 165.41630095 114.75380029 116.79510137  88.26769878 148.81390089\n",
      " 120.26699955  89.5796997  112.01690013 117.06700019 118.73740097\n",
      "  88.09309918  94.29410056 116.79219988 118.56350213 120.31850026\n",
      " 126.68429859 121.93880005 150.53419979 165.38060055 118.60899966\n",
      " 120.44240122 150.373901   118.26659954 173.11789893 105.23849933\n",
      " 105.05010116 148.87300123 113.84280046 124.83010101 147.34949956\n",
      " 119.57850124 115.1293002  112.57840026 113.49110191 139.97290153\n",
      " 117.82989758 102.94860054 115.93280097 103.62410161  98.6717004\n",
      " 117.42910068  90.50020031  91.72430013 153.60849857 102.70489985\n",
      " 154.81160086 114.43450137 138.91520173  90.2437981  115.49529917\n",
      " 115.10560013 122.84720049 121.66640057 165.47700133  92.91309961\n",
      " 135.29950152 121.41419883 120.81090059 104.5951999  142.14150243\n",
      " 122.12599908 116.54780045 113.28270083 126.91749769 122.58489954\n",
      " 125.73699926 121.25610012  86.81959924 132.22840141 144.31230192\n",
      "  92.65849957 157.96869955 160.08110191 126.23689889 165.11989959\n",
      " 108.80989968 109.94750078 103.79499829  94.04370112 128.15160304\n",
      " 107.01770065 161.59740027 121.58410034 132.00370047 130.59350207\n",
      " 160.50619992  90.20249818 175.27160177 127.65510046 126.76969896\n",
      "  86.3336998  124.46159941 150.18419674  89.68969981 107.06899999\n",
      " 109.07310006  83.89719893 136.42719981 155.1463022  138.8585034\n",
      "  73.99780016 152.72310169 126.00629968 126.77369986 127.48909895\n",
      " 108.58419933 156.29749991 114.63150111 116.95670114 124.9502995\n",
      " 153.95000089 121.13750002 156.47209829  92.9567007  125.47380117\n",
      " 125.54329993  88.05100076  92.0475994  126.14419932 128.4429035\n",
      " 113.30150069 117.5812975  120.99790012 126.92009763 119.98710093\n",
      " 136.36290069  93.76529898 119.92640022 113.42090115  94.2555993\n",
      " 108.88410002  86.41869923 108.79069967  89.6425994   92.47129986\n",
      " 131.69920349 162.46290111  89.67790013 119.52230088 133.36230151\n",
      " 123.90810034 128.38380241 101.93209845  89.11389857 131.81130034\n",
      " 120.27320044 108.66669976 168.7003014  115.04090064  86.61539881\n",
      " 118.85560047  91.12339961 161.47550103 116.56920043 121.41970012\n",
      " 160.25759847 119.84039929 112.98369937 108.47139845 126.6509004\n",
      "  75.94150032 102.95559992 128.12860295 121.83909929  92.55840034\n",
      " 131.97590079 118.341301   115.80049967 154.29360309 159.31090028\n",
      " 109.81859979 155.6607977  119.48830096 160.73270116 118.43980038\n",
      " 158.20909979 115.07879961 116.82660017 149.08399905 114.72860053\n",
      " 126.20199858 165.22129993 117.87259999 125.34809907 153.14430393\n",
      " 153.39040217 132.12919998 114.81330043 121.17320207 125.26550122\n",
      "  89.75370055 123.10769994 154.7247017  111.84950043 106.83119996\n",
      " 162.01530124 118.37619965 165.9041998  134.04590077 115.00440011\n",
      " 152.95579861 168.67200012 114.65110017 113.99990113 159.44039936\n",
      "  85.16639929 127.07430025 127.98620027 128.83359974 124.07500058\n",
      " 123.88780085  90.64950098 153.19849956  97.13609982 137.29859971\n",
      "  89.28609918 106.64230001 114.87500039 112.61700054 124.15339959\n",
      "  91.28499887 125.47170127 162.47619874 120.00479877 165.12470079\n",
      " 126.68339848 112.3872002  127.59599903  94.70429944  91.01519997\n",
      " 102.97269893 121.00450019  83.03079945 126.43650027 160.42620405\n",
      " 117.15650087 118.31269989 120.06030005 122.88989973 120.03890154\n",
      " 121.34290018 118.32770079 106.93899971 148.37990001 126.27799906\n",
      " 115.69820095  74.35550026 127.82570117 154.19200046 122.22760025\n",
      " 125.5939003   88.77399987 103.15669865 124.68780048 120.27190009\n",
      "  73.56640059 151.74779922 121.23020013 104.71190011  86.30319772\n",
      " 115.32129965 172.34949802 119.74500037 160.62729742 113.19949959\n",
      " 121.52450043 118.86960075  95.99189988 118.80819989 125.97990044\n",
      " 118.49899951  95.89370037 154.02900217 121.86690016 147.5658987\n",
      " 159.38180214 113.92230034 122.42459935 148.5444979  127.2194003\n",
      " 165.9389998  135.26190111 119.97989949 167.43199889 108.38849934\n",
      " 121.90809836 137.78000109 106.73259856]\n"
     ]
    }
   ],
   "source": [
    "print(test_data_prediction)"
   ]
  },
  {
   "cell_type": "code",
   "execution_count": 30,
   "id": "0709a1d0",
   "metadata": {},
   "outputs": [
    {
     "name": "stdout",
     "output_type": "stream",
     "text": [
      "R squared error : 0.9891889822431965\n"
     ]
    }
   ],
   "source": [
    "error_score = metrics.r2_score(Y_test, test_data_prediction)\n",
    "print(\"R squared error :\",error_score)"
   ]
  },
  {
   "cell_type": "code",
   "execution_count": 31,
   "id": "75e7da04",
   "metadata": {},
   "outputs": [],
   "source": [
    "Y_test = list(Y_test)"
   ]
  },
  {
   "cell_type": "code",
   "execution_count": 32,
   "id": "7f7632eb",
   "metadata": {},
   "outputs": [
    {
     "data": {
      "image/png": "[encoded data removed]",
      "text/plain": [
       "<Figure size 432x288 with 1 Axes>"
      ]
     },
     "metadata": {
      "needs_background": "light"
     },
     "output_type": "display_data"
    }
   ],
   "source": [
    "plt.plot(Y_test, color=\"blue\", label='actual value')\n",
    "plt.plot(test_data_prediction, color=\"green\", label='predicted value')\n",
    "plt.title('Actual Price vs Predicted Price')\n",
    "plt.xlabel(\"Number of values\")\n",
    "plt.ylabel(\"gold price\")\n",
    "plt.legend()\n",
    "plt.show()"
   ]
  },
  {
   "cell_type": "markdown",
   "id": "128aa620",
   "metadata": {},
   "source": [
    "### Test case"
   ]
  },
  {
   "cell_type": "code",
   "execution_count": 37,
   "id": "e408ad83",
   "metadata": {},
   "outputs": [
    {
     "name": "stdout",
     "output_type": "stream",
     "text": [
      "[84.96390021]\n"
     ]
    }
   ],
   "source": [
    "input_data = (1447.160034,78.470001,15.18,1.471692)\n",
    "input_data_as_numpy_array = np.asarray(input_data)\n",
    "input_data_reshaped = input_data_as_numpy_array.reshape(1,-1)\n",
    "prediction = regressor.predict(input_data_reshaped)\n",
    "print(prediction)"
   ]
  }
 ],
 "metadata": {
  "kernelspec": {
   "display_name": "Python 3",
   "language": "python",
   "name": "python3"
  },
  "language_info": {
   "codemirror_mode": {
    "name": "ipython",
    "version": 3
   },
   "file_extension": ".py",
   "mimetype": "text/x-python",
   "name": "python",
   "nbconvert_exporter": "python",
   "pygments_lexer": "ipython3",
   "version": "3.8.8"
  }
 },
 "nbformat": 4,
 "nbformat_minor": 5
}
